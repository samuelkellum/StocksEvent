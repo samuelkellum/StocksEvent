{
 "cells": [
  {
   "cell_type": "markdown",
   "metadata": {},
   "source": [
    "<h1>Cookies and Code: Advanved Stock Analysis with Python</h1>\n",
    "<h3>By: Samuel Kellum</h3>"
   ]
  },
  {
   "cell_type": "markdown",
   "metadata": {},
   "source": [
    "<h3>Web Scraping</h3>"
   ]
  },
  {
   "cell_type": "markdown",
   "metadata": {},
   "source": [
    "If you look at quotes for various securities on Yahoo Finance, you might notice that the URL is always in the following format ```https://finance.yahoo.com/quote/{symbol}```. We can use this knowledge to quickly collect information for any security on Yahoo Finance.\n",
    "\n",
    "The code below shows how you can concatenate a URL with Python code."
   ]
  },
  {
   "cell_type": "code",
   "execution_count": null,
   "metadata": {},
   "outputs": [],
   "source": [
    "ticker = \n",
    "url = f'https://finance.yahoo.com/quote/{ticker}'\n",
    "print(url)"
   ]
  },
  {
   "cell_type": "code",
   "execution_count": null,
   "metadata": {},
   "outputs": [],
   "source": [
    "ticker = \n",
    "url = f'https://finance.yahoo.com/quote/{ticker}'\n",
    "print(url)"
   ]
  },
  {
   "cell_type": "markdown",
   "metadata": {},
   "source": [
    "Now, to collect data from Yahoo Finance, we need to import a couple of libraries that give us access to various methods (or commands) that we want to use to collect the information from our desired URLs. (Note: you may need to uncomment (by removing ONLY the hashtag, not the percent sign) one or more the pip commands if an imported library is not installed on your machine."
   ]
  },
  {
   "cell_type": "code",
   "execution_count": null,
   "metadata": {},
   "outputs": [],
   "source": [
    "#Import libraries\n",
    "#%pip install requests\n",
    "#%pip install bs4\n",
    "import requests\n",
    "from bs4 import BeautifulSoup"
   ]
  },
  {
   "cell_type": "markdown",
   "metadata": {},
   "source": [
    "The first thing we need to do when using Python to collect data from a website is to perform a HTTP GET request on the URL.\n",
    "\n",
    "To check whether or not the GET request was successful, we can return the status code of the get request.\n",
    "\n",
    "If the HTTP response status code is 200-299, that means the GET request was successful.\n",
    "\n",
    "More info on status codes: https://developer.mozilla.org/en-US/docs/Web/HTTP/Status#successful_responses\n",
    "\n",
    "Some websites block requests that come in without a valid browser as a User-Agent, so we can pass in a <a href=\"https://www.google.com/search?q=what+is+my+user+agent&oq=what+is+my+user&aqs=chrome.1.69i57j35i39j69i59j0i512j0i20i263i512j0i512l5.2060j0j7&sourceid=chrome&ie=UTF-8\">user-agent</a> as a parameter into the GET request."
   ]
  },
  {
   "cell_type": "code",
   "execution_count": null,
   "metadata": {},
   "outputs": [],
   "source": [
    "#headers = {\"User-Agent\": \"Mozilla/5.0 (Macintosh; Intel Mac OS X 10_15_7) AppleWebKit/537.36 (KHTML, like Gecko) Chrome/99.0.4844.51 Safari/537.36\"}\n",
    "r = requests.get(url)\n",
    "print(url, r.status_code)"
   ]
  },
  {
   "cell_type": "markdown",
   "metadata": {},
   "source": [
    "At this point, we will use Beautiful Soup to parse the data from a particular HTML element titled <i>\"D(ib) Mend(20px)\"</i> on Yahoo Finance, which will represent the stock price, change, and percent change:"
   ]
  },
  {
   "cell_type": "code",
   "execution_count": null,
   "metadata": {},
   "outputs": [],
   "source": [
    "soup = BeautifulSoup(r.text, 'html.parser')\n",
    "data = soup.find('div', {'class': 'D(ib) Mend(20px)'}).find_all('fin-streamer')\n",
    "data"
   ]
  },
  {
   "cell_type": "markdown",
   "metadata": {},
   "source": [
    "At this point, the data looks pretty messy, but we can use ```.text``` to find the information between the `> <` symbols, which represents the information displayed on the website.\n",
    "\n",
    "With a little bit of Python code, we can extract all of the information we are interested in."
   ]
  },
  {
   "cell_type": "code",
   "execution_count": null,
   "metadata": {},
   "outputs": [],
   "source": [
    "print(ticker)\n",
    "for i in range(len(data)):\n",
    "    print(data[i].text)"
   ]
  },
  {
   "cell_type": "markdown",
   "metadata": {},
   "source": [
    "Now, let's combine everything we learned above to create a function that can get the data for any security on Yahoo Finance."
   ]
  },
  {
   "cell_type": "code",
   "execution_count": null,
   "metadata": {},
   "outputs": [],
   "source": [
    "def getData(symbol):\n",
    "    user_agent = {\"User-Agent\": \"Mozilla/5.0 (Macintosh; Intel Mac OS X 10_15_7) AppleWebKit/537.36 (KHTML, like Gecko) Chrome/100.0.4896.88 Safari/537.36\"}\n",
    "    url = f'https://finance.yahoo.com/quote/{symbol}'\n",
    "\n",
    "    r = requests.get(url, headers=user_agent)\n",
    "    if 200 <= r.status_code < 300:\n",
    "        soup = BeautifulSoup(r.text, 'html.parser')\n",
    "\n",
    "        stock = {\n",
    "            'symbol': symbol,\n",
    "            'price' : soup.find('div', {'class': 'D(ib) Mend(20px)'}).find_all('fin-streamer')[0].text,\n",
    "            'change' : soup.find('div', {'class': 'D(ib) Mend(20px)'}).find_all('fin-streamer')[1].text,\n",
    "            'percent change': soup.find('div', {'class': 'D(ib) Mend(20px)'}).find_all('fin-streamer')[2].text\n",
    "        }\n",
    "        \n",
    "        return stock\n",
    "    \n",
    "    else:\n",
    "        return (\"Error:\", r.status_code)"
   ]
  },
  {
   "cell_type": "markdown",
   "metadata": {},
   "source": [
    "This function works for any symbol that exists on yahoo finance, as shown below:"
   ]
  },
  {
   "cell_type": "code",
   "execution_count": null,
   "metadata": {},
   "outputs": [],
   "source": [
    "getData(\"\")"
   ]
  },
  {
   "cell_type": "code",
   "execution_count": null,
   "metadata": {},
   "outputs": [],
   "source": [
    "getData(\"\")"
   ]
  },
  {
   "cell_type": "code",
   "execution_count": null,
   "metadata": {},
   "outputs": [],
   "source": [
    "getData(\"\")"
   ]
  },
  {
   "cell_type": "markdown",
   "metadata": {},
   "source": [
    "<h3>Financial Analysis</h3>"
   ]
  },
  {
   "cell_type": "markdown",
   "metadata": {},
   "source": [
    "Now, lets move onto the fun part, the financial analysis!"
   ]
  },
  {
   "cell_type": "markdown",
   "metadata": {},
   "source": [
    "<h4>Import Libraries and Load Data</h4>"
   ]
  },
  {
   "cell_type": "markdown",
   "metadata": {},
   "source": [
    "Import libraries:"
   ]
  },
  {
   "cell_type": "code",
   "execution_count": null,
   "metadata": {},
   "outputs": [],
   "source": [
    "#%pip install pandas\n",
    "#%pip install matplotlib\n",
    "#%pip install numpy\n",
    "#%pip install yfinance\n",
    "#%pip install datetime\n",
    "#%pip install mplfinance\n",
    "\n",
    "from mplfinance.original_flavor import candlestick_ohlc\n",
    "import yfinance as yf\n",
    "from datetime import date\n",
    "import numpy as np\n",
    "import pandas as pd\n",
    "import matplotlib\n",
    "import matplotlib.pyplot as plt\n",
    "import matplotlib.dates as dates\n",
    "%matplotlib inline\n",
    "matplotlib.style.use('fivethirtyeight')"
   ]
  },
  {
   "cell_type": "markdown",
   "metadata": {},
   "source": [
    "Now, we can pick which three (or more) stocks we want to compare!\n",
    "\n",
    "The `yfinance` library will allow us to access the downlaod the data in YahooFinance's API for any security within a date range we specify."
   ]
  },
  {
   "cell_type": "code",
   "execution_count": null,
   "metadata": {},
   "outputs": [],
   "source": [
    "stock1 = yf.download(\"stock1\", start=\"2017-01-01\", end=str(date.today()))\n",
    "stock2 = yf.download(\"stock2\", start=\"2017-01-01\", end=str(date.today()))\n",
    "stock3 = yf.download(\"stock3\", start=\"2017-01-01\", end=str(date.today()))"
   ]
  },
  {
   "cell_type": "markdown",
   "metadata": {},
   "source": [
    "We can also speficy what <a href=\"https://htmlcolorcodes.com/\">hex code </a> we want to represent the color for each stock on our plots, this will help us later so we don't have to copy and paste the hex codes manually every time:"
   ]
  },
  {
   "cell_type": "code",
   "execution_count": null,
   "metadata": {},
   "outputs": [],
   "source": [
    "stock1_color = \"#\"\n",
    "stock2_color = \"#\"\n",
    "stock3_color = \"#\""
   ]
  },
  {
   "cell_type": "markdown",
   "metadata": {},
   "source": [
    "We have now created three `DataFrames`, or tables, containing the daily trading information for each company, as shown below."
   ]
  },
  {
   "cell_type": "code",
   "execution_count": null,
   "metadata": {},
   "outputs": [],
   "source": [
    "stock1"
   ]
  },
  {
   "cell_type": "code",
   "execution_count": null,
   "metadata": {},
   "outputs": [],
   "source": [
    "stock2"
   ]
  },
  {
   "cell_type": "code",
   "execution_count": null,
   "metadata": {},
   "outputs": [],
   "source": [
    "stock3"
   ]
  },
  {
   "cell_type": "markdown",
   "metadata": {},
   "source": [
    "<h4>Stock Price and Company Value</h4>"
   ]
  },
  {
   "cell_type": "markdown",
   "metadata": {},
   "source": [
    "Let's fist create a plot comparing the opening prices for each company:"
   ]
  },
  {
   "cell_type": "code",
   "execution_count": null,
   "metadata": {},
   "outputs": [],
   "source": [
    "stock1[\"Open\"].plot(label=\"Stock 1\", color=stock1_color, linewidth=0.95, figsize=(15,7))\n",
    "stock2[\"Open\"].plot(label=\"Stock 2\", color=stock2_color, linewidth=0.95)\n",
    "stock3[\"Open\"].plot(label=\"Stock 3\", color=stock3_color, linewidth=0.95)\n",
    "plt.legend()\n",
    "plt.title(\"Stock Prices of Stock 1, Stock 2, and Stock 3\")\n",
    "plt.ylabel(\"Stock Price\")\n",
    "plt.show()"
   ]
  },
  {
   "cell_type": "markdown",
   "metadata": {},
   "source": [
    "Ultimately, the stock price itself is largely irrelevant. Let's multiply each company's price by total number of shares outstanding to compare each comapny's value.\n",
    "\n",
    "To find the total number of shares outstanding for a company, let's create a function that inputs a ticker symbol and returns the number of shares outstanding:"
   ]
  },
  {
   "cell_type": "code",
   "execution_count": null,
   "metadata": {},
   "outputs": [],
   "source": [
    "def getSharesOutstanding(ticker):\n",
    "    if yf.Ticker(ticker).info[\"sharesOutstanding\"]:\n",
    "        return yf.Ticker(ticker).info[\"sharesOutstanding\"]\n",
    "    else:\n",
    "        return \"Could not find shares outstanding\""
   ]
  },
  {
   "cell_type": "markdown",
   "metadata": {},
   "source": [
    "Now, we can apply the function to each of our companies:"
   ]
  },
  {
   "cell_type": "code",
   "execution_count": null,
   "metadata": {},
   "outputs": [],
   "source": [
    "stock1_num_shares = getSharesOutstanding(\"stock1\")\n",
    "print(\"stock1\", stock1_num_shares)\n",
    "stock2_num_shares = getSharesOutstanding(\"stock2\")\n",
    "print(\"stock2\", stock2_num_shares)\n",
    "stock3_num_shares = getSharesOutstanding(\"stock3\")\n",
    "print(\"stock3\", stock3_num_shares)"
   ]
  },
  {
   "cell_type": "markdown",
   "metadata": {},
   "source": [
    "We should create a new column that calculates the company value for each day, which is the product of the stock price and the total number of shares outstanding."
   ]
  },
  {
   "cell_type": "code",
   "execution_count": null,
   "metadata": {},
   "outputs": [],
   "source": [
    "stock1[\"Company Value\"] = stock1[\"Open\"] * stock1_num_shares\n",
    "stock2[\"Company Value\"] = stock2[\"Open\"] * stock2_num_shares\n",
    "stock3[\"Company Value\"] = stock3[\"Open\"] * stock3_num_shares"
   ]
  },
  {
   "cell_type": "markdown",
   "metadata": {},
   "source": [
    "Now, we can make a plot that compares the values of our three companies:"
   ]
  },
  {
   "cell_type": "code",
   "execution_count": null,
   "metadata": {},
   "outputs": [],
   "source": [
    "amzn[\"Company Value\"].plot(label=\"Amazon\", color=amzn_color, linewidth=0.95, figsize=(15,7))\n",
    "tsla[\"Company Value\"].plot(label=\"Tesla\", color=tsla_color, linewidth=0.95)\n",
    "goog[\"Company Value\"].plot(label=\"Google\", color=goog_color, linewidth=0.95)\n",
    "plt.legend()\n",
    "plt.title(\"Value of Amazon, Tesla, and Google\")\n",
    "plt.ylabel(\"Value ($)\")\n",
    "plt.show()"
   ]
  },
  {
   "cell_type": "markdown",
   "metadata": {},
   "source": [
    "<h4>Cumulative Return</h4>"
   ]
  },
  {
   "cell_type": "markdown",
   "metadata": {},
   "source": [
    "A stock's return on investment represents the percent gain or loss in value of the stock. Let's create a visualization representing a stock's cumulative return, or return on investment each days since our beginning date.\n",
    "\n",
    "Let's create a new column representing the cumulative return, which represents a ratio between the current (for each day) value and the initial value:"
   ]
  },
  {
   "cell_type": "code",
   "execution_count": null,
   "metadata": {},
   "outputs": [],
   "source": [
    "first_day = stock1[\"Open\"].iloc[0]\n",
    "stock1[\"Cumulative Return\"] = stock1[\"Open\"] / first_day\n",
    "first_day = stock2[\"Open\"].iloc[0]\n",
    "stock2[\"Cumulative Return\"] = stock2[\"Open\"] / first_day\n",
    "first_day = stock3[\"Open\"].iloc[0]\n",
    "stock3[\"Cumulative Return\"] = stock3[\"Open\"] / first_day"
   ]
  },
  {
   "cell_type": "markdown",
   "metadata": {},
   "source": [
    "Now, we can create a plot to compare the cumulative returns for each comapny. Keep in mind that every value should start at 1 since it represents the inital price."
   ]
  },
  {
   "cell_type": "code",
   "execution_count": null,
   "metadata": {},
   "outputs": [],
   "source": [
    "stock1[\"Cumulative Return\"].plot(label=\"Stock 1\", color=stock1_color, linewidth=0.95, figsize=(15,7))\n",
    "stock2[\"Cumulative Return\"].plot(label=\"Stock 2\", color=stock2_color, linewidth=0.95)\n",
    "stock3[\"Cumulative Return\"].plot(label=\"Stock 3\", color=stock3_color, linewidth=0.95)\n",
    "plt.legend()\n",
    "plt.title(\"Cumulative Return of Stock 1, Stock 2, and Stock 3\")\n",
    "plt.ylabel(\"Return Multiplier\")\n",
    "plt.show()"
   ]
  },
  {
   "cell_type": "markdown",
   "metadata": {},
   "source": [
    "<h4>Volume</h4>"
   ]
  },
  {
   "cell_type": "markdown",
   "metadata": {},
   "source": [
    "In addition to price and cumulative return, volume is an important metric to consider since it is generally a sign of price change.\n",
    "\n",
    "Let's plot a visulaization of the volume for each company:"
   ]
  },
  {
   "cell_type": "code",
   "execution_count": null,
   "metadata": {},
   "outputs": [],
   "source": [
    "stock1[\"Volume\"].plot(label=\"Stock 1\", color=stock1_color, linewidth=0.95, figsize=(17,5))\n",
    "stock2[\"Volume\"].plot(label=\"Stock 2\", color=stock2_color, linewidth=0.95)\n",
    "stock3[\"Volume\"].plot(label=\"Stock 3\", color=stock3_color, linewidth=0.95)\n",
    "plt.legend()\n",
    "plt.title(\"Stock 1, Stock 2, and Stock 3 Daily Volume\")\n",
    "plt.ylabel(\"Daily volume (100 millions)\")\n",
    "plt.show()"
   ]
  },
  {
   "cell_type": "markdown",
   "metadata": {},
   "source": [
    "Let's look into the tallest spike!"
   ]
  },
  {
   "cell_type": "code",
   "execution_count": null,
   "metadata": {},
   "outputs": [],
   "source": [
    "#Find row with highest volume\n",
    "print(stockN[\"Volume\"].argmax())\n",
    "stockN.iloc[[stockN[\"Volume\"].argmax()]]"
   ]
  },
  {
   "cell_type": "markdown",
   "metadata": {},
   "source": [
    "What happened around this time period? Let's do some investigation!"
   ]
  },
  {
   "cell_type": "code",
   "execution_count": null,
   "metadata": {},
   "outputs": [],
   "source": [
    "stockN.iloc[-25:+25][\"Open\"].plot(linewidth=0.95)\n",
    "stockN.iloc[-25:+25][\"High\"].plot(linewidth=0.95)\n",
    "stockN.iloc[-25:+25][\"Low\"].plot(linewidth=0.95)\n",
    "stockN.iloc[-25:+25][\"Close\"].plot(linewidth=0.95)\n",
    "plt.legend()\n",
    "plt.show()"
   ]
  },
  {
   "cell_type": "markdown",
   "metadata": {},
   "source": [
    "Volume does not take into account price, so let's compare the total dollar amount traded for each company by creating a new column:"
   ]
  },
  {
   "cell_type": "code",
   "execution_count": null,
   "metadata": {},
   "outputs": [],
   "source": [
    "stock1[\"Dollar Volume\"] = stock1[\"Open\"] * stock1[\"Volume\"]\n",
    "stock2[\"Dollar Volume\"] = stock2[\"Open\"] * stock2[\"Volume\"]\n",
    "stock3[\"Dollar Volume\"] = stock3[\"Open\"] * stock3[\"Volume\"]"
   ]
  },
  {
   "cell_type": "code",
   "execution_count": null,
   "metadata": {},
   "outputs": [],
   "source": [
    "stock1[\"Dollar Volume\"].plot(label=\"Stock 1\", color=stock1_color, linewidth=0.95, figsize=(15,7))\n",
    "stock2[\"Dollar Volume\"].plot(label=\"Stock 2\", color=stock2_color, linewidth=0.95)\n",
    "stock3[\"Dollar Volume\"].plot(label=\"Stock 3\", color=stock3_color, linewidth=0.95)\n",
    "plt.legend()\n",
    "plt.title(\"Dollar Amount Volume of Stock 1, Stock 2, and Stock 3\")\n",
    "plt.ylabel(\"Volume ($100 billions)\")\n",
    "plt.show()"
   ]
  },
  {
   "cell_type": "markdown",
   "metadata": {},
   "source": [
    "When we factor in share price, what changes? Let's investigate the new peak if so, or we could investigate the peak of a different company: "
   ]
  },
  {
   "cell_type": "code",
   "execution_count": null,
   "metadata": {},
   "outputs": [],
   "source": [
    "#Find row with highest volume\n",
    "stockN.iloc[[stockN[\"Dollar Volume\"].argmax()]]"
   ]
  },
  {
   "cell_type": "markdown",
   "metadata": {},
   "source": [
    "<h4>Moving Average</h4>"
   ]
  },
  {
   "cell_type": "markdown",
   "metadata": {},
   "source": [
    "When analyzing a security for long term investment, you might be skeptial of its true value based on what is seemingly noisy data, or random price fluctuations, meaningless in the long term.\n",
    "\n",
    "Therefore, we can smooth the sharp edges with a moving average, which represents the average of a previous fixed time period. "
   ]
  },
  {
   "cell_type": "markdown",
   "metadata": {},
   "source": [
    "Let's check out a stock's moving average:"
   ]
  },
  {
   "cell_type": "code",
   "execution_count": null,
   "metadata": {},
   "outputs": [],
   "source": [
    "#Evenly Weighted Moving Average (# days) and Stock 3 Price\n",
    "stockN[\"Moving Average 200\"] = stockN[\"Open\"].rolling(200).mean()\n",
    "stockN[\"Moving Average 200\"].plot(label=\"Moving Average 200 Days\", linewidth=0.95, figsize=(15,7))\n",
    "stockN[\"Moving Average 50\"] = stockN[\"Open\"].rolling(50).mean()\n",
    "stockN[\"Moving Average 50\"].plot(label=\"Moving Average 50 Days\", linewidth=0.95)\n",
    "stockN[\"Open\"].plot(linewidth=0.9)\n",
    "plt.legend()\n",
    "plt.show()"
   ]
  },
  {
   "cell_type": "markdown",
   "metadata": {},
   "source": [
    "Let's also check out an exponentially weighted moving average, which gives more recent dates a higher weight, balanced out with a lower weight for the eariler days:"
   ]
  },
  {
   "cell_type": "code",
   "execution_count": null,
   "metadata": {},
   "outputs": [],
   "source": [
    "#Exponentally Weighted Moving Average (# days) and Stock 3 Price\n",
    "stock3[\"Exp Moving Average 100\"] = stock3.iloc[:,0].ewm(span=100,adjust=False).mean()\n",
    "stock3[\"Exp Moving Average 100\"].plot(label=\"Moving Average 100 Days\", linewidth=0.95, figsize=(15,7))\n",
    "stock3[\"Exp Moving Average 30\"] = stock3.iloc[:,0].ewm(span=30,adjust=False).mean()\n",
    "stock3[\"Exp Moving Average 30\"].plot(label=\"Moving Average 30 Days\", linewidth=0.95)\n",
    "stock3[\"Open\"].plot(linewidth=0.9)\n",
    "plt.legend()\n",
    "plt.show()"
   ]
  },
  {
   "cell_type": "markdown",
   "metadata": {},
   "source": [
    "You might have noticed that the more days in a moving average, the flatter the data. For example, a 100 day moving average is the average price of the previous 100 days, whereas a 25 day moving average is the average price of the previous 25 days. Larger numbers are less prone to small fluctiations."
   ]
  },
  {
   "cell_type": "markdown",
   "metadata": {},
   "source": [
    "<h4>Stock Price Correlation<h/4>"
   ]
  },
  {
   "cell_type": "markdown",
   "metadata": {},
   "source": [
    "When we are analyzing a series of stocks, one important thing to keep in mind is the relationship between different stock prices. Is there a linear correlation between various stock prices?\n",
    "\n",
    "To comapre the opening prices for our three companies, we will create a new `DataFrame`, or table, by concatenating the opening price columns of the different companies."
   ]
  },
  {
   "cell_type": "code",
   "execution_count": null,
   "metadata": {},
   "outputs": [],
   "source": [
    "comparison = pd.concat([stock1[\"Open\"],stock2[\"Open\"],stock3[\"Open\"]], axis=1)\n",
    "comparison.columns = [\"Stock 1 Open\", \"Stock 2 Open\", \"Stock 3 Open\"]"
   ]
  },
  {
   "cell_type": "markdown",
   "metadata": {},
   "source": [
    "Now, we will make a scatter matrix to compare the relationships between each combination of companies:"
   ]
  },
  {
   "cell_type": "code",
   "execution_count": null,
   "metadata": {},
   "outputs": [],
   "source": [
    "pd.plotting.scatter_matrix(comparison, hist_kwds={'bins':50}, figsize=(9,9))\n",
    "plt.show()"
   ]
  },
  {
   "cell_type": "markdown",
   "metadata": {},
   "source": [
    "<h4>Volatility</h4>"
   ]
  },
  {
   "cell_type": "markdown",
   "metadata": {},
   "source": [
    "Volatility is very important when comapring stocks, because is it much more difficult to gain back losses (in terms of percentage). For example, a 50% decrease requires a 100% increase to return to the original value.\n",
    "\n",
    "For each company, let's calculate the daily return for each day:"
   ]
  },
  {
   "cell_type": "code",
   "execution_count": null,
   "metadata": {},
   "outputs": [],
   "source": [
    "stock1[\"daily_return\"] = (stock1[\"Close\"] / stock1[\"Close\"].shift(1)) - 1\n",
    "stock2[\"daily_return\"] = (stock2[\"Close\"] / stock2[\"Close\"].shift(1)) - 1\n",
    "stock3[\"daily_return\"] = (stock3[\"Close\"] / stock3[\"Close\"].shift(1)) - 1"
   ]
  },
  {
   "cell_type": "markdown",
   "metadata": {},
   "source": [
    "Now, let's plot a histogram of the distribution of daily returns for one company."
   ]
  },
  {
   "cell_type": "code",
   "execution_count": null,
   "metadata": {},
   "outputs": [],
   "source": [
    "stockN[\"daily_return\"].plot.hist(bins=50, color=stockN_color)"
   ]
  },
  {
   "cell_type": "code",
   "execution_count": null,
   "metadata": {},
   "outputs": [],
   "source": [
    "stockN[\"daily_return\"].describe()"
   ]
  },
  {
   "cell_type": "code",
   "execution_count": null,
   "metadata": {},
   "outputs": [],
   "source": [
    "#(1 + mean)^253 - 1\n",
    "mean = stockN[\"daily_return\"].mean()\n",
    "np.power(1 + mean, 253) - 1"
   ]
  },
  {
   "cell_type": "markdown",
   "metadata": {},
   "source": [
    "Let's compare all three daily return histograms:"
   ]
  },
  {
   "cell_type": "code",
   "execution_count": null,
   "metadata": {},
   "outputs": [],
   "source": [
    "stock1[\"daily_return\"].plot.hist(bins=100, label=\"Stock 1\", alpha=0.5, color=stock1_color, figsize=(13,6))\n",
    "stock2[\"daily_return\"].plot.hist(bins=100, label=\"Stock 2\", alpha=0.5, color=stock2_color)\n",
    "stock3[\"daily_return\"].plot.hist(bins=100, label=\"Stock 3\", alpha=0.5, color=stock3_color)\n",
    "plt.legend()\n",
    "plt.show()"
   ]
  },
  {
   "cell_type": "markdown",
   "metadata": {},
   "source": [
    "To confirm our findings, let's make a <a href=\"https://en.wikipedia.org/wiki/Kernel_density_estimation\">Kernel density estimation</a> plot, which standardizes the data across the companies, as shown below:"
   ]
  },
  {
   "cell_type": "code",
   "execution_count": null,
   "metadata": {},
   "outputs": [],
   "source": [
    "#Kernel Density Estimation\n",
    "stock1[\"daily_return\"].plot(kind=\"kde\", label=\"Stock 1\", color=stock1_color, figsize=(15,6))\n",
    "stock2[\"daily_return\"].plot(kind=\"kde\", label=\"Stock 2\", color=stock2_color)\n",
    "stock3[\"daily_return\"].plot(kind=\"kde\", label=\"Stock 3\", color=stock3_color)\n",
    "plt.legend()\n",
    "plt.show()"
   ]
  },
  {
   "cell_type": "markdown",
   "metadata": {},
   "source": [
    "Let's also make some boxplots to compare the price volatilities of each company:"
   ]
  },
  {
   "cell_type": "code",
   "execution_count": null,
   "metadata": {},
   "outputs": [],
   "source": [
    "box_df = pd.concat([stock1[\"daily_return\"], stock2[\"daily_return\"], stock3[\"daily_return\"]], axis=1)\n",
    "box_df.columns=[\"Stock 1 Daily Returns\", \"Stock 2 Daily Returns\", \"Stock 3 Daily Returns\"]\n",
    "box_df.plot(kind=\"box\", figsize=(16,6))"
   ]
  },
  {
   "cell_type": "markdown",
   "metadata": {},
   "source": [
    "The boxplots confirm the findings from the Kernel density estimation. Now, let's make a scatter matrix to compare the daily returns between each combination of companies:"
   ]
  },
  {
   "cell_type": "code",
   "execution_count": null,
   "metadata": {},
   "outputs": [],
   "source": [
    "pd.plotting.scatter_matrix(box_df, hist_kwds={\"bins\":50}, alpha=0.25, figsize=(8,8))\n",
    "plt.show()"
   ]
  },
  {
   "cell_type": "markdown",
   "metadata": {},
   "source": [
    "<h4>Candlestick Graphing</h4>"
   ]
  },
  {
   "cell_type": "markdown",
   "metadata": {},
   "source": [
    "Day traders use candlestick graphs to track movement in a stock price throughout the day."
   ]
  },
  {
   "cell_type": "markdown",
   "metadata": {},
   "source": [
    "<img src=\"candlestick.png\"></img>"
   ]
  },
  {
   "cell_type": "markdown",
   "metadata": {},
   "source": [
    "If you are interested in learning more about candlesticks, check out this article: https://www.investopedia.com/trading/candlestick-charting-what-is-it/"
   ]
  },
  {
   "cell_type": "code",
   "execution_count": null,
   "metadata": {},
   "outputs": [],
   "source": [
    "stock2_day_prices = yf.download(tickers=\"stock2\",\n",
    "                            period=\"1d\",\n",
    "                            interval=\"5m\",\n",
    "                            auto_adjust=True)\n",
    "stock2_day_prices = stock2_day_prices.reset_index()\n",
    "stock2_day_prices"
   ]
  },
  {
   "cell_type": "code",
   "execution_count": null,
   "metadata": {},
   "outputs": [],
   "source": [
    "stockN_day_prices[\"date_ax\"] = stockN_day_prices[\"Datetime\"].apply(lambda date: dates.date2num(date))\n",
    "stockN_tuple = [tuple(vals) for vals in stock2_day_prices[[\"date_ax\", \"Open\", \"High\", \"Low\", \"Close\"]].values]\n",
    "\n",
    "\n",
    "fig, ax = plt.subplots()\n",
    "candlestick_ohlc(ax, stock2_tuple, width=0.0015, colorup=\"g\")\n",
    "plt.xticks([])\n",
    "plt.title(\"Stock Candlestick Most Recent Trading Day\")\n",
    "plt.ylabel(\"Price\")\n",
    "plt.show()"
   ]
  },
  {
   "cell_type": "markdown",
   "metadata": {},
   "source": [
    "From this candlestick graph, we can recognize the price movement of the security for that day. "
   ]
  },
  {
   "cell_type": "markdown",
   "metadata": {},
   "source": [
    "Special thanks to the following YouTube videos for providing some of the code that I used in this notebook:\n",
    "<ol>\n",
    "    <li><a href>https://www.youtube.com/watch?v=7sFCOunKL_Y</a></li>\n",
    "    <li><a href>https://www.youtube.com/watch?v=57qAxRV577c</a></li>\n",
    "</ol>"
   ]
  }
 ],
 "metadata": {
  "kernelspec": {
   "display_name": "Python 3",
   "language": "python",
   "name": "python3"
  },
  "language_info": {
   "codemirror_mode": {
    "name": "ipython",
    "version": 3
   },
   "file_extension": ".py",
   "mimetype": "text/x-python",
   "name": "python",
   "nbconvert_exporter": "python",
   "pygments_lexer": "ipython3",
   "version": "3.8.5"
  }
 },
 "nbformat": 4,
 "nbformat_minor": 4
}
