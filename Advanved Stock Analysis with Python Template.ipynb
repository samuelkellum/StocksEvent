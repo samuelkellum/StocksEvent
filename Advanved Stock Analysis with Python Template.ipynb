{
 "cells": [
  {
   "cell_type": "markdown",
   "metadata": {},
   "source": [
    "<h1>Cookies and Code: Advanved Stock Analysis with Python</h1>\n",
    "<h3>By: Samuel Kellum</h3>"
   ]
  },
  {
   "cell_type": "markdown",
   "metadata": {},
   "source": [
    "<h3>Web Scraping</h3>"
   ]
  },
  {
   "cell_type": "markdown",
   "metadata": {},
   "source": [
    "If you look at quotes for various securities on Yahoo Finance, you might notice that the URL is always in the following format ```https://finance.yahoo.com/quote/{symbol}```. We can use this knowledge to quickly collect information for any security on Yahoo Finance.\n",
    "\n",
    "The code below shows how you can concatenate a URL with Python code."
   ]
  },
  {
   "cell_type": "code",
   "execution_count": null,
   "metadata": {},
   "outputs": [],
   "source": [
    "ticker = \"\"\n",
    "url = f'https://finance.yahoo.com/quote/{ticker}'\n",
    "print(url)"
   ]
  },
  {
   "cell_type": "code",
   "execution_count": null,
   "metadata": {},
   "outputs": [],
   "source": [
    "ticker = \"\"\n",
    "url = f'https://finance.yahoo.com/quote/{ticker}'\n",
    "print(url)"
   ]
  },
  {
   "cell_type": "markdown",
   "metadata": {},
   "source": [
    "Now, to collect data from Yahoo Finance, we need to import a couple of libraries that give us access to various methods (or commands) that we want to use to collect the information from our desired URLs. (Note: you may need to uncomment (by removing ONLY the hashtag, not the percent sign) one or more the pip commands if an imported library is not installed on your machine."
   ]
  },
  {
   "cell_type": "code",
   "execution_count": null,
   "metadata": {},
   "outputs": [],
   "source": [
    "#Import libraries\n",
    "#%pip install requests\n",
    "#%pip install bs4\n",
    "import requests\n",
    "from bs4 import BeautifulSoup"
   ]
  },
  {
   "cell_type": "markdown",
   "metadata": {},
   "source": [
    "The first thing we need to do when using Python to collect data from a website is to perform a HTTP GET request on the URL.\n",
    "\n",
    "To check whether or not the GET request was successful, we can return the status code of the get request.\n",
    "\n",
    "If the HTTP response status code is 200-299, that means the GET request was successful.\n",
    "\n",
    "More info on status codes: https://developer.mozilla.org/en-US/docs/Web/HTTP/Status#successful_responses\n",
    "\n",
    "Some websites block requests that come in without a valid browser as a User-Agent, so we can pass in a user-agent as a parameter into the GET request."
   ]
  },
  {
   "cell_type": "code",
   "execution_count": null,
   "metadata": {},
   "outputs": [],
   "source": [
    "#You can update user-agent by searching \"What is my user agent?\" on Google.\n",
    "headers = {\"User-Agent\": \"Mozilla/5.0 (Macintosh; Intel Mac OS X 10_15_7) AppleWebKit/537.36 (KHTML, like Gecko) Chrome/99.0.4844.51 Safari/537.36\"}\n",
    "r = requests.get(url, headers=headers)\n",
    "print(r.status_code)"
   ]
  },
  {
   "cell_type": "markdown",
   "metadata": {},
   "source": [
    "At this point, we will use Beautiful Soup to parse the data from a particular HTML element titled <i>\"D(ib) Mend(20px)\"</i> on Yahoo Finance, which will represent the stock price, change, and percent change in the form of a `List`:"
   ]
  },
  {
   "cell_type": "code",
   "execution_count": null,
   "metadata": {},
   "outputs": [],
   "source": [
    "soup = BeautifulSoup(r.text, 'html.parser')\n",
    "data = soup.find('div', {'class': 'D(ib) Mend(20px)'}).find_all('fin-streamer')\n",
    "data"
   ]
  },
  {
   "cell_type": "markdown",
   "metadata": {},
   "source": [
    "At this point, the data looks pretty messy, but we can use ```.text``` to find the information between the `> <` symbols, which represents the information displayed on the website.\n",
    "\n",
    "With a little bit of Python code, we can extract all of the information we are interested in."
   ]
  },
  {
   "cell_type": "code",
   "execution_count": null,
   "metadata": {},
   "outputs": [],
   "source": [
    "print(ticker)\n",
    "for i in range(len(data)):\n",
    "    print(data[i].text)"
   ]
  },
  {
   "cell_type": "markdown",
   "metadata": {},
   "source": [
    "Now, let's combine everything we learned above to create a function that can get the data for any security."
   ]
  },
  {
   "cell_type": "code",
   "execution_count": null,
   "metadata": {},
   "outputs": [],
   "source": [
    "def getData(symbol):\n",
    "    headers = {\"User-Agent\": \"Mozilla/5.0 (Macintosh; Intel Mac OS X 10_15_7) AppleWebKit/537.36 (KHTML, like Gecko) Chrome/99.0.4844.51 Safari/537.36\"}\n",
    "    url = f'https://finance.yahoo.com/quote/{symbol}'\n",
    "\n",
    "    r = requests.get(url, headers=headers)\n",
    "    if 200 <= r.status_code <= 300:\n",
    "        soup = BeautifulSoup(r.text, 'html.parser')\n",
    "\n",
    "        stock = {\n",
    "            'symbol': symbol,\n",
    "            'price' : soup.find('div', {'class': 'D(ib) Mend(20px)'}).find_all('fin-streamer')[0].text,\n",
    "            'change' : soup.find('div', {'class': 'D(ib) Mend(20px)'}).find_all('fin-streamer')[1].text,\n",
    "            'percent change': soup.find('div', {'class': 'D(ib) Mend(20px)'}).find_all('fin-streamer')[2].text\n",
    "        }\n",
    "        return stock\n",
    "    else:\n",
    "        return (\"Error:\", r.status_code)\n",
    "    "
   ]
  },
  {
   "cell_type": "markdown",
   "metadata": {},
   "source": [
    "This function works for any symbol that exists on yahoo finance, as shown below:"
   ]
  },
  {
   "cell_type": "code",
   "execution_count": null,
   "metadata": {},
   "outputs": [],
   "source": [
    "getData(\"\")"
   ]
  },
  {
   "cell_type": "code",
   "execution_count": null,
   "metadata": {},
   "outputs": [],
   "source": [
    "getData(\"\")"
   ]
  },
  {
   "cell_type": "code",
   "execution_count": null,
   "metadata": {},
   "outputs": [],
   "source": [
    "getData(\"\")"
   ]
  },
  {
   "cell_type": "markdown",
   "metadata": {},
   "source": [
    "<h3>Financial Analysis</h3>"
   ]
  },
  {
   "cell_type": "markdown",
   "metadata": {},
   "source": [
    "Now, lets move onto the fun part, the financial analysis!"
   ]
  },
  {
   "cell_type": "markdown",
   "metadata": {},
   "source": [
    "<h4>Load Data</h4>"
   ]
  },
  {
   "cell_type": "markdown",
   "metadata": {},
   "source": [
    "Import libraries:"
   ]
  },
  {
   "cell_type": "code",
   "execution_count": null,
   "metadata": {},
   "outputs": [],
   "source": [
    "#%pip install pandas\n",
    "#%pip install pandas_datareader\n",
    "#%pip install datetime\n",
    "#%pip install matplotlib\n",
    "#%pip install numpy\n",
    "import pandas_datareader.data as web\n",
    "import datetime\n",
    "import matplotlib.pyplot as plt\n",
    "import numpy as np\n",
    "import pandas as pd\n",
    "%matplotlib inline"
   ]
  },
  {
   "cell_type": "markdown",
   "metadata": {},
   "source": [
    "To decide what date range we want to analyze, we can set the start and end dates with the `datetime` library."
   ]
  },
  {
   "cell_type": "code",
   "execution_count": null,
   "metadata": {},
   "outputs": [],
   "source": [
    "start = datetime.datetime(2017,1,1) #Format: (YYYY, M, D)\n",
    "end = datetime.date.today()\n",
    "#Uncomment the line below and comment out the line above if you want to specify an earlier end date\n",
    "#end = datetime.datetime(2022,1,1)"
   ]
  },
  {
   "cell_type": "markdown",
   "metadata": {},
   "source": [
    "Now, we can pick which three (or more) stocks we want to compare!\n",
    "\n",
    "The `web.DataReader` library will allow us to access the data in YahooFinance's API for any security within a date range we specify."
   ]
  },
  {
   "cell_type": "code",
   "execution_count": null,
   "metadata": {},
   "outputs": [],
   "source": [
    "stock1 = web.DataReader(\"stock1\", \"yahoo\", start, end)\n",
    "stock2 = web.DataReader(\"stock2\", \"yahoo\", start, end)\n",
    "stock3 = web.DataReader(\"stock3\", \"yahoo\", start, end)"
   ]
  },
  {
   "cell_type": "markdown",
   "metadata": {},
   "source": [
    "We have now created three `DataFrames`, or tables, containing the daily trading information for each company, as shown below."
   ]
  },
  {
   "cell_type": "code",
   "execution_count": null,
   "metadata": {},
   "outputs": [],
   "source": [
    "stock1"
   ]
  },
  {
   "cell_type": "code",
   "execution_count": null,
   "metadata": {},
   "outputs": [],
   "source": [
    "stock2"
   ]
  },
  {
   "cell_type": "code",
   "execution_count": null,
   "metadata": {},
   "outputs": [],
   "source": [
    "stock3"
   ]
  },
  {
   "cell_type": "markdown",
   "metadata": {},
   "source": [
    "<h4>Price</h4>"
   ]
  },
  {
   "cell_type": "markdown",
   "metadata": {},
   "source": [
    "Let's fist create a plot comparing the opening prices for each company, as shown below:"
   ]
  },
  {
   "cell_type": "code",
   "execution_count": null,
   "metadata": {},
   "outputs": [],
   "source": [
    "stock1[\"Open\"].plot(label=\"Stock 1\", figsize=(15,7), color=\"\")\n",
    "stock2[\"Open\"].plot(label=\"Stock 2\", color=\"\")\n",
    "stock3[\"Open\"].plot(label=\"Stock 3\", color=\"\")\n",
    "plt.legend()\n",
    "plt.title(\"Stock Prices of Stock 1, Stock 2, and Stock 3\")\n",
    "plt.ylabel(\"Stock Price\")\n",
    "plt.show()"
   ]
  },
  {
   "cell_type": "markdown",
   "metadata": {},
   "source": [
    "<h4>Cumulative Return</h4>"
   ]
  },
  {
   "cell_type": "markdown",
   "metadata": {},
   "source": [
    "Since it is difficult to compare securities with different stock prices, for each security, let's calculate the daily cumulative return:"
   ]
  },
  {
   "cell_type": "code",
   "execution_count": null,
   "metadata": {},
   "outputs": [],
   "source": [
    "first_day = stock1[\"Open\"].iloc[0]\n",
    "stock1[\"Cumulative Return\"] = stock1[\"Open\"] / first_day\n",
    "first_day = stock2[\"Open\"].iloc[0]\n",
    "stock2[\"Cumulative Return\"] = stock2[\"Open\"] / first_day\n",
    "first_day = stock3[\"Open\"].iloc[0]\n",
    "stock3[\"Cumulative Return\"] = stock3[\"Open\"] / first_day"
   ]
  },
  {
   "cell_type": "markdown",
   "metadata": {},
   "source": [
    "Let's create a plot comparing the cumulative return for each comapny."
   ]
  },
  {
   "cell_type": "code",
   "execution_count": null,
   "metadata": {},
   "outputs": [],
   "source": [
    "stock1[\"Cumulative Return\"].plot(label=\"Stock 1\", figsize=(15,7), color=\"\")\n",
    "stock2[\"Cumulative Return\"].plot(label=\"Stock 2\", color=\"\")\n",
    "stock3[\"Cumulative Return\"].plot(label=\"Stock 3\", color=\"\")\n",
    "plt.legend()\n",
    "plt.title(\"Cumulative Return of Stock 1, Stock 2, and Stock 3\")\n",
    "plt.ylabel(\"Return Multiplier\")\n",
    "plt.show()"
   ]
  },
  {
   "cell_type": "markdown",
   "metadata": {},
   "source": [
    "<h4>Volume</h4>"
   ]
  },
  {
   "cell_type": "markdown",
   "metadata": {},
   "source": [
    "In addition to price and cumulative return, volume is an important metric to consider since it is generally a sign of movement.\n",
    "\n",
    "Let's plot a visulaization of the volume for each company:"
   ]
  },
  {
   "cell_type": "code",
   "execution_count": null,
   "metadata": {},
   "outputs": [],
   "source": [
    "stock1[\"Volume\"].plot(label=\"Stock 1\", figsize=(17,5), color=\"\")\n",
    "stock2[\"Volume\"].plot(label=\"Stock 2\", color=\"\")\n",
    "stock3[\"Volume\"].plot(label=\"Stock 3\", color=\"\")\n",
    "plt.legend()\n",
    "plt.title(\"Stock 1, Stock 2, and Stock 3 Daily Volume\")\n",
    "plt.ylabel(\"Daily volume\")\n",
    "plt.show()"
   ]
  },
  {
   "cell_type": "markdown",
   "metadata": {},
   "source": [
    "Let's check out what happened on the day of the biggest spike!"
   ]
  },
  {
   "cell_type": "code",
   "execution_count": null,
   "metadata": {},
   "outputs": [],
   "source": [
    "#Find row with highest volume\n",
    "print(stockN[\"Volume\"].argmax())\n",
    "stockN.iloc[[stockN[\"Volume\"].argmax()]]"
   ]
  },
  {
   "cell_type": "markdown",
   "metadata": {},
   "source": [
    "What happened around this time period? Let's do some investigation!"
   ]
  },
  {
   "cell_type": "code",
   "execution_count": null,
   "metadata": {},
   "outputs": [],
   "source": [
    "stockN.iloc['beg':'end'][\"Open\"].plot()\n",
    "plt.show()"
   ]
  },
  {
   "cell_type": "markdown",
   "metadata": {},
   "source": [
    "Volume does not take into account price, so let's compare the total dollar amount traded for each company:"
   ]
  },
  {
   "cell_type": "code",
   "execution_count": null,
   "metadata": {},
   "outputs": [],
   "source": [
    "stock1[\"Dollar Volume\"] = stock1[\"Open\"] * stock1[\"Volume\"]\n",
    "stock2[\"Dollar Volume\"] = stock2[\"Open\"] * stock2[\"Volume\"]\n",
    "stock3[\"Dollar Volume\"] = stock3[\"Open\"] * stock3[\"Volume\"]"
   ]
  },
  {
   "cell_type": "code",
   "execution_count": null,
   "metadata": {},
   "outputs": [],
   "source": [
    "stock1[\"Dollar Volume\"].plot(label=\"Stock 1\", figsize=(15,7), color=\"orange\")\n",
    "stock2[\"Dollar Volume\"].plot(label=\"Stock 2\", color=\"\")\n",
    "stock3[\"Dollar Volume\"].plot(label=\"Stock 3\", color=\"\")\n",
    "plt.legend()\n",
    "plt.title(\"Dollar Amount Volume of Stock 1, Stock 2, and Stock 3\")\n",
    "plt.ylabel(\"Volume ($100 billions)\")\n",
    "plt.show()"
   ]
  },
  {
   "cell_type": "markdown",
   "metadata": {},
   "source": [
    "Is there a new largest spike? If so, let's find the date with the highest volume and explore what happened!"
   ]
  },
  {
   "cell_type": "code",
   "execution_count": null,
   "metadata": {},
   "outputs": [],
   "source": [
    "#Find row with highest volume\n",
    "print(stockN[\"Dollar Volume\"].argmax())\n",
    "stockN.iloc[[stockN[\"Dollar Volume\"].argmax()]]"
   ]
  },
  {
   "cell_type": "markdown",
   "metadata": {},
   "source": [
    "<h4>Moving Average</h4>"
   ]
  },
  {
   "cell_type": "markdown",
   "metadata": {},
   "source": [
    "When analyzing a security, you might get overwhelmed by looking at all of the little spikes and drops, or noisy data, that is meaningless over a longer period of time.\n",
    "\n",
    "Therefore, we can smooth the noisy curve with a moving average, which represents the average of a previous fixed time period. "
   ]
  },
  {
   "cell_type": "markdown",
   "metadata": {},
   "source": [
    "Let's check out a stock's moving average:"
   ]
  },
  {
   "cell_type": "code",
   "execution_count": null,
   "metadata": {},
   "outputs": [],
   "source": [
    "stockN[\"Open\"].plot(figsize=(15,7))\n",
    "stockN[\"Moving Average 50\"] = stockN[\"Open\"].rolling(50).mean()\n",
    "stockN[\"Moving Average 50\"].plot(label=\"Moving Average 50 Days\")\n",
    "stockN[\"Moving Average 200\"] = stockN[\"Open\"].rolling(200).mean()\n",
    "stockN[\"Moving Average 200\"].plot(label=\"Moving Average 200 Days\")\n",
    "plt.legend()\n",
    "plt.show()"
   ]
  },
  {
   "cell_type": "markdown",
   "metadata": {},
   "source": [
    "As you can see, the higher the moving average, the flatter the data. A 200 day moving average is the average price of the previous 200 days, whereas a 50 day moving average is the average price of the previous 50 days."
   ]
  },
  {
   "cell_type": "markdown",
   "metadata": {},
   "source": [
    "<h4>Stock Price Correlation<h/4>"
   ]
  },
  {
   "cell_type": "markdown",
   "metadata": {},
   "source": [
    "When we are analyzing a series of stocks, one important thing to keep in mind is the relationship between different stock prices. Is there a linear correlation between various stock prices?\n",
    "\n",
    "To comapre the opening prices for our three companies, we will create a new `DataFrame`, or table, by concatenating the opening price columns of the different companies."
   ]
  },
  {
   "cell_type": "code",
   "execution_count": null,
   "metadata": {},
   "outputs": [],
   "source": [
    "comparison = pd.concat([stock1[\"Open\"],stock2[\"Open\"],stock3[\"Open\"]], axis=1)\n",
    "comparison.columns = [\"Stock 1 Open\", \"Stock 2 Open\", \"Stock 3 Open\"]"
   ]
  },
  {
   "cell_type": "markdown",
   "metadata": {},
   "source": [
    "Now, we will make a scatter matrix to compare the relationships between each combination of companies:"
   ]
  },
  {
   "cell_type": "code",
   "execution_count": null,
   "metadata": {},
   "outputs": [],
   "source": [
    "pd.plotting.scatter_matrix(comparison, figsize=(9,9), hist_kwds={'bins':50})\n",
    "plt.show()"
   ]
  },
  {
   "cell_type": "markdown",
   "metadata": {},
   "source": [
    "<h4>Volatility</h4>"
   ]
  },
  {
   "cell_type": "markdown",
   "metadata": {},
   "source": [
    "Volatility is very a important metric when comapring stocks, because is it much more difficult to gain back losses (in terms of percentage). For example, a 50% decrease requires a 100% increase to return to the original value.\n",
    "\n",
    "For each company, let's calculate the daily return for each day:"
   ]
  },
  {
   "cell_type": "code",
   "execution_count": null,
   "metadata": {},
   "outputs": [],
   "source": [
    "stock1[\"daily_return\"] = (stock1[\"Close\"] / stock1[\"Close\"].shift(1)) - 1\n",
    "stock2[\"daily_return\"] = (stock2[\"Close\"] / stock2[\"Close\"].shift(1)) - 1\n",
    "stock3[\"daily_return\"] = (stock3[\"Close\"] / stock3[\"Close\"].shift(1)) - 1"
   ]
  },
  {
   "cell_type": "markdown",
   "metadata": {},
   "source": [
    "Now, let's plot a histogram of the distribution of daily returns for one company."
   ]
  },
  {
   "cell_type": "code",
   "execution_count": null,
   "metadata": {},
   "outputs": [],
   "source": [
    "stockN[\"daily_return\"].plot.hist(bins=50, color=\"\")"
   ]
  },
  {
   "cell_type": "code",
   "execution_count": null,
   "metadata": {},
   "outputs": [],
   "source": [
    "stockN[\"daily_return\"].describe()"
   ]
  },
  {
   "cell_type": "code",
   "execution_count": null,
   "metadata": {},
   "outputs": [],
   "source": [
    "#(1 + mean)^253 - 1\n",
    "mean = stockN[\"daily_return\"].mean()\n",
    "np.power(1 + mean, 253) - 1"
   ]
  },
  {
   "cell_type": "markdown",
   "metadata": {},
   "source": [
    "Let's compare all three daily return histograms:"
   ]
  },
  {
   "cell_type": "code",
   "execution_count": null,
   "metadata": {},
   "outputs": [],
   "source": [
    "stock1[\"daily_return\"].plot.hist(bins=100, label=\"Stock 1\", alpha=0.5, color=\"\", figsize=(13,6))\n",
    "stock2[\"daily_return\"].plot.hist(bins=100, label=\"Stock 2\", alpha=0.5, color=\"\")\n",
    "stock3[\"daily_return\"].plot.hist(bins=100, label=\"Stock 3\", alpha=0.5, color=\"\")\n",
    "plt.legend()\n",
    "plt.show()"
   ]
  },
  {
   "cell_type": "code",
   "execution_count": null,
   "metadata": {},
   "outputs": [],
   "source": [
    "#Kernel Density Estimation\n",
    "stock1[\"daily_return\"].plot(kind=\"kde\", label=\"Stock 1\", figsize=(15,6), color=\"\")\n",
    "stock2[\"daily_return\"].plot(kind=\"kde\", label=\"Stock 2\", color=\"\")\n",
    "stock3[\"daily_return\"].plot(kind=\"kde\", label=\"Stock 3\", color=\"\")\n",
    "plt.legend()\n",
    "plt.show()"
   ]
  },
  {
   "cell_type": "markdown",
   "metadata": {},
   "source": [
    "From this graph, we can tell that tallest and thinnest density plot is the least volatile security, whereas the shortest and thickest density plot is the most volatile stock.\n",
    "\n",
    "Let's make some boxplots to compare the price volatilities of each ticker:"
   ]
  },
  {
   "cell_type": "code",
   "execution_count": null,
   "metadata": {},
   "outputs": [],
   "source": [
    "box_df = pd.concat([stock1[\"daily_return\"], stock2[\"daily_return\"], stock3[\"daily_return\"]], axis=1)\n",
    "box_df.columns=[\"Stock 1 Daily Returns\", \"Stock 2 Daily Returns\", \"Stock 3 Daily Returns\"]\n",
    "box_df.plot(kind=\"box\", figsize=(16,6))"
   ]
  },
  {
   "cell_type": "markdown",
   "metadata": {},
   "source": [
    "The boxplots confirm the findings from the Kernel density estimation, where the longer box-plots represent more volatile stocks. Now, let's make a scatter matrix to compare the daily returns between each combination of companies:"
   ]
  },
  {
   "cell_type": "code",
   "execution_count": null,
   "metadata": {},
   "outputs": [],
   "source": [
    "pd.plotting.scatter_matrix(box_df,figsize=(8,8), hist_kwds={\"bins\":50}, alpha=0.25)\n",
    "plt.show()"
   ]
  },
  {
   "cell_type": "markdown",
   "metadata": {},
   "source": [
    "<h4>Candlestick Graphing</h4>"
   ]
  },
  {
   "cell_type": "markdown",
   "metadata": {},
   "source": [
    "Day traders use candlestick graphs to track movement in a stock price throughout the day."
   ]
  },
  {
   "cell_type": "markdown",
   "metadata": {},
   "source": [
    "<img src=\"candlestick.png\"></img>"
   ]
  },
  {
   "cell_type": "markdown",
   "metadata": {},
   "source": [
    "If you are interested in learning more about candlesticks, check out this article: https://www.investopedia.com/trading/candlestick-charting-what-is-it/"
   ]
  },
  {
   "cell_type": "code",
   "execution_count": null,
   "metadata": {},
   "outputs": [],
   "source": [
    "#%pip install mpl_finance\n",
    "from mplfinance.original_flavor import candlestick_ohlc\n",
    "import matplotlib.dates as dates\n",
    "\n",
    "#%pip install yfinance\n",
    "import yfinance as yf\n",
    "\n",
    "stock_day_prices = yf.download(tickers=\"\",\n",
    "                            period=\"1d\",\n",
    "                            interval=\"5m\",\n",
    "                            auto_adjust=True)\n",
    "stock_day_prices = stock_day_prices.reset_index()\n",
    "stock_day_prices"
   ]
  },
  {
   "cell_type": "code",
   "execution_count": null,
   "metadata": {},
   "outputs": [],
   "source": [
    "stock_day_values = [tuple(vals) for vals in stock_day_prices[[\"date_ax\", \"Open\", \"High\", \"Low\", \"Close\"]].values]\n",
    "\n",
    "fig, ax = plt.subplots()\n",
    "candlestick_ohlc(ax, tsla_dec_2020_values, width=0.001, colorup=\"g\")\n",
    "plt.xticks([])\n",
    "plt.title(\"Stock Candlestick Most Recent Trading Day\")\n",
    "plt.ylabel(\"Price\")\n",
    "plt.show()"
   ]
  },
  {
   "cell_type": "markdown",
   "metadata": {},
   "source": [
    "From this candlestick graph, we can recognize the price movement of the security for that day. "
   ]
  },
  {
   "cell_type": "markdown",
   "metadata": {},
   "source": [
    "Special thanks to the following YouTube videos for providing some of the code that I used in this notebook:\n",
    "<ol>\n",
    "    <li><a href>https://www.youtube.com/watch?v=7sFCOunKL_Y</a></li>\n",
    "    <li><a href>https://www.youtube.com/watch?v=57qAxRV577c</a></li>\n",
    "</ol>"
   ]
  }
 ],
 "metadata": {
  "kernelspec": {
   "display_name": "Python 3",
   "language": "python",
   "name": "python3"
  },
  "language_info": {
   "codemirror_mode": {
    "name": "ipython",
    "version": 3
   },
   "file_extension": ".py",
   "mimetype": "text/x-python",
   "name": "python",
   "nbconvert_exporter": "python",
   "pygments_lexer": "ipython3",
   "version": "3.8.5"
  }
 },
 "nbformat": 4,
 "nbformat_minor": 4
}
